{
 "cells": [
  {
   "cell_type": "code",
   "execution_count": 2,
   "metadata": {},
   "outputs": [],
   "source": [
    "import pandas as pd\n",
    "import numpy as np\n",
    "import matplotlib.pyplot as plt\n",
    "from datetime import datetime, date"
   ]
  },
  {
   "cell_type": "code",
   "execution_count": 3,
   "metadata": {},
   "outputs": [],
   "source": [
    "#Import csv\n",
    "c2019 = pd.read_csv('C:/Users/hanna/Documents/CSV/CRIMESDATA/LA_2019.csv', sep = ',')\n",
    "c2020 = pd.read_csv('C:/Users/hanna/Documents/CSV/CRIMESDATA/LA_2020.csv', sep = ',')\n",
    "c2021 = pd.read_csv('C:/Users/hanna/Documents/CSV/CRIMESDATA/LA_2021.csv', sep = ',')\n"
   ]
  },
  {
   "cell_type": "code",
   "execution_count": 4,
   "metadata": {},
   "outputs": [
    {
     "data": {
      "text/plain": [
       "Unnamed: 0              int64\n",
       "INCIDENT_DATE          object\n",
       "CATEGORY               object\n",
       "STAT                    int64\n",
       "STAT_DESC              object\n",
       "ADDRESS                object\n",
       "STREET                 object\n",
       "CITY                   object\n",
       "ZIP                   float64\n",
       "INCIDENT_ID            object\n",
       "REPORTING_DISTRICT      int64\n",
       "GANG_RELATED           object\n",
       "UNIT_ID                object\n",
       "UNIT_NAME              object\n",
       "LONGITUDE             float64\n",
       "LATITUDE              float64\n",
       "PART_CATEGORY           int64\n",
       "dtype: object"
      ]
     },
     "execution_count": 4,
     "metadata": {},
     "output_type": "execute_result"
    }
   ],
   "source": [
    "c2019.dtypes"
   ]
  },
  {
   "cell_type": "code",
   "execution_count": 5,
   "metadata": {},
   "outputs": [
    {
     "data": {
      "text/html": [
       "<div>\n",
       "<style scoped>\n",
       "    .dataframe tbody tr th:only-of-type {\n",
       "        vertical-align: middle;\n",
       "    }\n",
       "\n",
       "    .dataframe tbody tr th {\n",
       "        vertical-align: top;\n",
       "    }\n",
       "\n",
       "    .dataframe thead th {\n",
       "        text-align: right;\n",
       "    }\n",
       "</style>\n",
       "<table border=\"1\" class=\"dataframe\">\n",
       "  <thead>\n",
       "    <tr style=\"text-align: right;\">\n",
       "      <th></th>\n",
       "      <th>INCIDENT_DATE</th>\n",
       "      <th>CATEGORY</th>\n",
       "      <th>STAT</th>\n",
       "      <th>STAT_DESC</th>\n",
       "      <th>ADDRESS</th>\n",
       "      <th>STREET</th>\n",
       "      <th>CITY</th>\n",
       "      <th>ZIP</th>\n",
       "      <th>INCIDENT_ID</th>\n",
       "      <th>REPORTING_DISTRICT</th>\n",
       "      <th>GANG_RELATED</th>\n",
       "      <th>UNIT_ID</th>\n",
       "      <th>UNIT_NAME</th>\n",
       "      <th>LONGITUDE</th>\n",
       "      <th>LATITUDE</th>\n",
       "      <th>PART_CATEGORY</th>\n",
       "    </tr>\n",
       "  </thead>\n",
       "  <tbody>\n",
       "    <tr>\n",
       "      <th>0</th>\n",
       "      <td>2019-01-01 00:00:00</td>\n",
       "      <td>NON-AGGRAVATED ASSAULTS</td>\n",
       "      <td>146</td>\n",
       "      <td>ASSAULT, NON-AGGRAVATED: DOMESTIC VIOLENCE</td>\n",
       "      <td>44300 CAMELIA ST, LANCASTER, CA</td>\n",
       "      <td>44300 CAMELIA ST</td>\n",
       "      <td>LANCASTER</td>\n",
       "      <td>93535</td>\n",
       "      <td>019-00020-1137</td>\n",
       "      <td>1137</td>\n",
       "      <td>NO</td>\n",
       "      <td>CA0190024</td>\n",
       "      <td>LANCASTER</td>\n",
       "      <td>-118.080</td>\n",
       "      <td>34.688</td>\n",
       "      <td>2</td>\n",
       "    </tr>\n",
       "    <tr>\n",
       "      <th>1</th>\n",
       "      <td>2019-01-01 00:00:00</td>\n",
       "      <td>VEHICLE / BOATING LAWS</td>\n",
       "      <td>250</td>\n",
       "      <td>VEHICLE AND BOATING LAWS: Hit And Run, Misdeme...</td>\n",
       "      <td>16000 PIONEER BLVD, NORWALK, CA</td>\n",
       "      <td>16000 PIONEER BLVD</td>\n",
       "      <td>NORWALK</td>\n",
       "      <td>90650</td>\n",
       "      <td>919-00016-0455</td>\n",
       "      <td>455</td>\n",
       "      <td>NO</td>\n",
       "      <td>CA0190004</td>\n",
       "      <td>NORWALK</td>\n",
       "      <td>-118.083</td>\n",
       "      <td>33.885</td>\n",
       "      <td>2</td>\n",
       "    </tr>\n",
       "    <tr>\n",
       "      <th>2</th>\n",
       "      <td>2019-01-01 00:00:00</td>\n",
       "      <td>LARCENY THEFT</td>\n",
       "      <td>89</td>\n",
       "      <td>GRAND THEFT: Other (From Boat, Plane, Prvt Res...</td>\n",
       "      <td>HAZARD AVE AND FAIRMOUNT ST, LOS ANGELES, CA</td>\n",
       "      <td>HAZARD AVE AND FAIRMOUNT ST</td>\n",
       "      <td>LOS ANGELES</td>\n",
       "      <td>90063</td>\n",
       "      <td>919-00019-0272</td>\n",
       "      <td>272</td>\n",
       "      <td>NO</td>\n",
       "      <td>CA0190002</td>\n",
       "      <td>EAST LOS ANGELES</td>\n",
       "      <td>-118.179</td>\n",
       "      <td>34.046</td>\n",
       "      <td>1</td>\n",
       "    </tr>\n",
       "    <tr>\n",
       "      <th>3</th>\n",
       "      <td>2019-01-01 00:00:00</td>\n",
       "      <td>VEHICLE / BOATING LAWS</td>\n",
       "      <td>250</td>\n",
       "      <td>VEHICLE AND BOATING LAWS: Hit And Run, Misdeme...</td>\n",
       "      <td>14TH ST AND RAILROAD AVE, NEWHALL, CA  91321</td>\n",
       "      <td>14TH ST AND RAILROAD AVE</td>\n",
       "      <td>NEWHALL</td>\n",
       "      <td>91321</td>\n",
       "      <td>919-00021-0625</td>\n",
       "      <td>625</td>\n",
       "      <td>NO</td>\n",
       "      <td>CA0190006</td>\n",
       "      <td>SANTA CLARITA VALLEY</td>\n",
       "      <td>-118.532</td>\n",
       "      <td>34.385</td>\n",
       "      <td>2</td>\n",
       "    </tr>\n",
       "    <tr>\n",
       "      <th>4</th>\n",
       "      <td>2019-01-01 00:00:00</td>\n",
       "      <td>LARCENY THEFT</td>\n",
       "      <td>387</td>\n",
       "      <td>THEFT, PETTY: From Bldgs (Church, School, Rest...</td>\n",
       "      <td>600 N ROBERTSON BLVD, WEST HOLLYWOOD, CA  90069</td>\n",
       "      <td>600 N ROBERTSON BLVD</td>\n",
       "      <td>WEST HOLLYWOOD</td>\n",
       "      <td>90069</td>\n",
       "      <td>919-00103-0972</td>\n",
       "      <td>972</td>\n",
       "      <td>NO</td>\n",
       "      <td>CA0190009</td>\n",
       "      <td>WEST HOLLYWOOD</td>\n",
       "      <td>-118.385</td>\n",
       "      <td>34.083</td>\n",
       "      <td>1</td>\n",
       "    </tr>\n",
       "    <tr>\n",
       "      <th>...</th>\n",
       "      <td>...</td>\n",
       "      <td>...</td>\n",
       "      <td>...</td>\n",
       "      <td>...</td>\n",
       "      <td>...</td>\n",
       "      <td>...</td>\n",
       "      <td>...</td>\n",
       "      <td>...</td>\n",
       "      <td>...</td>\n",
       "      <td>...</td>\n",
       "      <td>...</td>\n",
       "      <td>...</td>\n",
       "      <td>...</td>\n",
       "      <td>...</td>\n",
       "      <td>...</td>\n",
       "      <td>...</td>\n",
       "    </tr>\n",
       "    <tr>\n",
       "      <th>230320</th>\n",
       "      <td>2021-06-30 23:45:00</td>\n",
       "      <td>LARCENY THEFT</td>\n",
       "      <td>384</td>\n",
       "      <td>THEFT, PETTY: From Auto (Except Parts/Accessor...</td>\n",
       "      <td>1400 DESCANSO DR, LA CANADA FLINTRIDGE, CA 91011</td>\n",
       "      <td>1400 DESCANSO DR</td>\n",
       "      <td>LA CANADA FLINTRIDGE</td>\n",
       "      <td>91011</td>\n",
       "      <td>921-01103-1264</td>\n",
       "      <td>1264</td>\n",
       "      <td>NO</td>\n",
       "      <td>CA0190012</td>\n",
       "      <td>CRESCENTA VALLEY</td>\n",
       "      <td>-118.209</td>\n",
       "      <td>34.203</td>\n",
       "      <td>1</td>\n",
       "    </tr>\n",
       "    <tr>\n",
       "      <th>230321</th>\n",
       "      <td>2021-06-30 23:50:00</td>\n",
       "      <td>NARCOTICS</td>\n",
       "      <td>181</td>\n",
       "      <td>Felony Transport. &amp;/or Sale of Controlled Subs...</td>\n",
       "      <td>GARVEY AVE AND ROSEMEAD BLVD, ROSEMEAD, CA 91770</td>\n",
       "      <td>GARVEY AVE AND ROSEMEAD BLVD</td>\n",
       "      <td>ROSEMEAD</td>\n",
       "      <td>91770</td>\n",
       "      <td>921-07118-0534</td>\n",
       "      <td>534</td>\n",
       "      <td>NO</td>\n",
       "      <td>CA0190005</td>\n",
       "      <td>TEMPLE</td>\n",
       "      <td>-118.073</td>\n",
       "      <td>34.062</td>\n",
       "      <td>2</td>\n",
       "    </tr>\n",
       "    <tr>\n",
       "      <th>230322</th>\n",
       "      <td>2021-06-30 23:59:30</td>\n",
       "      <td>LARCENY THEFT</td>\n",
       "      <td>389</td>\n",
       "      <td>THEFT, PETTY: Other (From Prvt Res, Boat, Plan...</td>\n",
       "      <td>2700 RAMBLA PACIFICO ST, MALIBU, CA 90265</td>\n",
       "      <td>2700 RAMBLA PACIFICO ST</td>\n",
       "      <td>MALIBU</td>\n",
       "      <td>90265</td>\n",
       "      <td>921-04036-1026</td>\n",
       "      <td>1026</td>\n",
       "      <td>NO</td>\n",
       "      <td>CA0190022</td>\n",
       "      <td>MALIBU/LOST HILLS</td>\n",
       "      <td>-118.646</td>\n",
       "      <td>34.051</td>\n",
       "      <td>1</td>\n",
       "    </tr>\n",
       "    <tr>\n",
       "      <th>230323</th>\n",
       "      <td>2021-06-30 23:59:30</td>\n",
       "      <td>FRAUD AND NSF CHECKS</td>\n",
       "      <td>112</td>\n",
       "      <td>FRAUD: Fraud By False Pretenses</td>\n",
       "      <td>UNK UNKNOWN, LOS ANGELES, CA</td>\n",
       "      <td>UNK UNKNOWN</td>\n",
       "      <td>LOS ANGELES</td>\n",
       "      <td>&lt;NA&gt;</td>\n",
       "      <td>921-09981-0277</td>\n",
       "      <td>277</td>\n",
       "      <td>NO</td>\n",
       "      <td>CA0190002</td>\n",
       "      <td>EAST LOS ANGELES</td>\n",
       "      <td>NaN</td>\n",
       "      <td>NaN</td>\n",
       "      <td>2</td>\n",
       "    </tr>\n",
       "    <tr>\n",
       "      <th>230324</th>\n",
       "      <td>2021-06-30 23:59:30</td>\n",
       "      <td>FRAUD AND NSF CHECKS</td>\n",
       "      <td>112</td>\n",
       "      <td>FRAUD: Fraud By False Pretenses</td>\n",
       "      <td>2000 HACIENDA BLVD, HACIENDA HEIGHTS, CA 91745</td>\n",
       "      <td>2000 HACIENDA BLVD</td>\n",
       "      <td>HACIENDA HEIGHTS</td>\n",
       "      <td>91745</td>\n",
       "      <td>921-09040-1476</td>\n",
       "      <td>1476</td>\n",
       "      <td>NO</td>\n",
       "      <td>CA0190014</td>\n",
       "      <td>INDUSTRY</td>\n",
       "      <td>-117.967</td>\n",
       "      <td>33.995</td>\n",
       "      <td>2</td>\n",
       "    </tr>\n",
       "  </tbody>\n",
       "</table>\n",
       "<p>230325 rows × 16 columns</p>\n",
       "</div>"
      ],
      "text/plain": [
       "             INCIDENT_DATE                 CATEGORY  STAT  \\\n",
       "0      2019-01-01 00:00:00  NON-AGGRAVATED ASSAULTS   146   \n",
       "1      2019-01-01 00:00:00   VEHICLE / BOATING LAWS   250   \n",
       "2      2019-01-01 00:00:00            LARCENY THEFT    89   \n",
       "3      2019-01-01 00:00:00   VEHICLE / BOATING LAWS   250   \n",
       "4      2019-01-01 00:00:00            LARCENY THEFT   387   \n",
       "...                    ...                      ...   ...   \n",
       "230320 2021-06-30 23:45:00            LARCENY THEFT   384   \n",
       "230321 2021-06-30 23:50:00                NARCOTICS   181   \n",
       "230322 2021-06-30 23:59:30            LARCENY THEFT   389   \n",
       "230323 2021-06-30 23:59:30     FRAUD AND NSF CHECKS   112   \n",
       "230324 2021-06-30 23:59:30     FRAUD AND NSF CHECKS   112   \n",
       "\n",
       "                                                STAT_DESC  \\\n",
       "0              ASSAULT, NON-AGGRAVATED: DOMESTIC VIOLENCE   \n",
       "1       VEHICLE AND BOATING LAWS: Hit And Run, Misdeme...   \n",
       "2       GRAND THEFT: Other (From Boat, Plane, Prvt Res...   \n",
       "3       VEHICLE AND BOATING LAWS: Hit And Run, Misdeme...   \n",
       "4       THEFT, PETTY: From Bldgs (Church, School, Rest...   \n",
       "...                                                   ...   \n",
       "230320  THEFT, PETTY: From Auto (Except Parts/Accessor...   \n",
       "230321  Felony Transport. &/or Sale of Controlled Subs...   \n",
       "230322  THEFT, PETTY: Other (From Prvt Res, Boat, Plan...   \n",
       "230323                    FRAUD: Fraud By False Pretenses   \n",
       "230324                    FRAUD: Fraud By False Pretenses   \n",
       "\n",
       "                                                 ADDRESS  \\\n",
       "0                        44300 CAMELIA ST, LANCASTER, CA   \n",
       "1                        16000 PIONEER BLVD, NORWALK, CA   \n",
       "2           HAZARD AVE AND FAIRMOUNT ST, LOS ANGELES, CA   \n",
       "3           14TH ST AND RAILROAD AVE, NEWHALL, CA  91321   \n",
       "4        600 N ROBERTSON BLVD, WEST HOLLYWOOD, CA  90069   \n",
       "...                                                  ...   \n",
       "230320  1400 DESCANSO DR, LA CANADA FLINTRIDGE, CA 91011   \n",
       "230321  GARVEY AVE AND ROSEMEAD BLVD, ROSEMEAD, CA 91770   \n",
       "230322         2700 RAMBLA PACIFICO ST, MALIBU, CA 90265   \n",
       "230323                      UNK UNKNOWN, LOS ANGELES, CA   \n",
       "230324    2000 HACIENDA BLVD, HACIENDA HEIGHTS, CA 91745   \n",
       "\n",
       "                              STREET                  CITY    ZIP  \\\n",
       "0                   44300 CAMELIA ST             LANCASTER  93535   \n",
       "1                 16000 PIONEER BLVD               NORWALK  90650   \n",
       "2        HAZARD AVE AND FAIRMOUNT ST           LOS ANGELES  90063   \n",
       "3           14TH ST AND RAILROAD AVE               NEWHALL  91321   \n",
       "4               600 N ROBERTSON BLVD        WEST HOLLYWOOD  90069   \n",
       "...                              ...                   ...    ...   \n",
       "230320              1400 DESCANSO DR  LA CANADA FLINTRIDGE  91011   \n",
       "230321  GARVEY AVE AND ROSEMEAD BLVD              ROSEMEAD  91770   \n",
       "230322       2700 RAMBLA PACIFICO ST                MALIBU  90265   \n",
       "230323                   UNK UNKNOWN           LOS ANGELES   <NA>   \n",
       "230324            2000 HACIENDA BLVD      HACIENDA HEIGHTS  91745   \n",
       "\n",
       "           INCIDENT_ID  REPORTING_DISTRICT GANG_RELATED    UNIT_ID  \\\n",
       "0       019-00020-1137                1137           NO  CA0190024   \n",
       "1       919-00016-0455                 455           NO  CA0190004   \n",
       "2       919-00019-0272                 272           NO  CA0190002   \n",
       "3       919-00021-0625                 625           NO  CA0190006   \n",
       "4       919-00103-0972                 972           NO  CA0190009   \n",
       "...                ...                 ...          ...        ...   \n",
       "230320  921-01103-1264                1264           NO  CA0190012   \n",
       "230321  921-07118-0534                 534           NO  CA0190005   \n",
       "230322  921-04036-1026                1026           NO  CA0190022   \n",
       "230323  921-09981-0277                 277           NO  CA0190002   \n",
       "230324  921-09040-1476                1476           NO  CA0190014   \n",
       "\n",
       "                   UNIT_NAME  LONGITUDE  LATITUDE  PART_CATEGORY  \n",
       "0                  LANCASTER   -118.080    34.688              2  \n",
       "1                    NORWALK   -118.083    33.885              2  \n",
       "2           EAST LOS ANGELES   -118.179    34.046              1  \n",
       "3       SANTA CLARITA VALLEY   -118.532    34.385              2  \n",
       "4             WEST HOLLYWOOD   -118.385    34.083              1  \n",
       "...                      ...        ...       ...            ...  \n",
       "230320      CRESCENTA VALLEY   -118.209    34.203              1  \n",
       "230321                TEMPLE   -118.073    34.062              2  \n",
       "230322     MALIBU/LOST HILLS   -118.646    34.051              1  \n",
       "230323      EAST LOS ANGELES        NaN       NaN              2  \n",
       "230324              INDUSTRY   -117.967    33.995              2  \n",
       "\n",
       "[230325 rows x 16 columns]"
      ]
     },
     "execution_count": 5,
     "metadata": {},
     "output_type": "execute_result"
    }
   ],
   "source": [
    "df = pd.concat([c2019, c2020, c2021], ignore_index=True).reset_index(drop=True)\n",
    "df.drop('Unnamed: 0', axis=1, inplace=True)\n",
    "\n",
    "df['INCIDENT_DATE'] = pd.to_datetime(df['INCIDENT_DATE'], format = '%Y/%m/%d %H:%M:%S')\n",
    "\n",
    "df = pd.DataFrame(df)\n",
    "df[['CATEGORY', 'STAT_DESC', 'ADDRESS', 'STREET', 'CITY', 'INCIDENT_ID', 'GANG_RELATED', 'UNIT_ID', 'UNIT_NAME']] = df[['CATEGORY', 'STAT_DESC', 'ADDRESS', 'STREET', 'CITY', 'INCIDENT_ID', 'GANG_RELATED', 'UNIT_ID', 'UNIT_NAME']].astype('string')\n",
    "df['ZIP'] = df['ZIP'].astype('Int64')\n",
    "df"
   ]
  },
  {
   "cell_type": "code",
   "execution_count": 16,
   "metadata": {},
   "outputs": [
    {
     "data": {
      "text/plain": [
       "INCIDENT_DATE         datetime64[ns]\n",
       "CATEGORY                      string\n",
       "STAT                           int64\n",
       "STAT_DESC                     string\n",
       "ADDRESS                       string\n",
       "STREET                        string\n",
       "CITY                          string\n",
       "ZIP                            Int64\n",
       "INCIDENT_ID                   string\n",
       "REPORTING_DISTRICT             int64\n",
       "GANG_RELATED                  string\n",
       "UNIT_ID                       string\n",
       "UNIT_NAME                     string\n",
       "LONGITUDE                    float64\n",
       "LATITUDE                     float64\n",
       "PART_CATEGORY                  int64\n",
       "dtype: object"
      ]
     },
     "execution_count": 16,
     "metadata": {},
     "output_type": "execute_result"
    }
   ],
   "source": [
    "df.dtypes"
   ]
  },
  {
   "cell_type": "code",
   "execution_count": 9,
   "metadata": {},
   "outputs": [
    {
     "name": "stdout",
     "output_type": "stream",
     "text": [
      "{'CATEGORY': 28, 'STAT': 3, 'STAT_DESC': 68, 'ADDRESS': 91, 'STREET': 74, 'CITY': 30, 'ZIP': 7, 'INCIDENT_ID': 14, 'REPORTING_DISTRICT': 4, 'GANG_RELATED': 3, 'UNIT_ID': 9, 'UNIT_NAME': 36, 'PART_CATEGORY': 1}\n"
     ]
    }
   ],
   "source": [
    "#Return max length\n",
    "def get_max_length(lst):\n",
    "    return len(max(lst, key=len))\n",
    "\n",
    "#Length of each data type\n",
    "leng = {}\n",
    "leng['CATEGORY'] = (get_max_length(df['CATEGORY']))\n",
    "leng['STAT'] = (get_max_length(df['STAT'].astype(str)))\n",
    "leng['STAT_DESC'] = (get_max_length(df['STAT_DESC']))\n",
    "leng['ADDRESS'] = (get_max_length(df['ADDRESS'].astype(str, errors='ignore')))\n",
    "leng['STREET'] = (get_max_length(df['STREET'].astype(str, errors='ignore')))\n",
    "leng['CITY'] = (get_max_length(df['CITY'].astype(str, errors='ignore')))\n",
    "leng['ZIP'] = (get_max_length(df['ZIP'].astype(str, errors='ignore')))\n",
    "leng['INCIDENT_ID'] = (get_max_length(df['INCIDENT_ID']))\n",
    "leng['REPORTING_DISTRICT'] = (get_max_length(df['REPORTING_DISTRICT'].astype(str, errors='ignore')))\n",
    "leng['GANG_RELATED'] = (get_max_length(df['GANG_RELATED'].astype(str)))\n",
    "leng['UNIT_ID'] = (get_max_length(df['UNIT_ID']))\n",
    "leng['UNIT_NAME'] = (get_max_length(df['UNIT_NAME']))\n",
    "#leng['LONGITUDE'] = (get_max_length(df['LONGITUDE'].astype(str, errors='ignore')))\n",
    "#leng['LATITUDE'] = (get_max_length(df['LATITUDE'].astype(str, errors='ignore')))\n",
    "leng['PART_CATEGORY'] = (get_max_length(df['PART_CATEGORY'].astype(str)))\n",
    "print(leng)"
   ]
  },
  {
   "cell_type": "code",
   "execution_count": null,
   "metadata": {},
   "outputs": [],
   "source": [
    "#df = df.append({'Name' : 'Ankit', 'Articles' : 97, 'Improved' : 2200}, ignore_index = True)\n",
    "diff_df = df.groupby(['CATEGORY']['INCIDENT_DATE'].dt.year)['INCIDENT_ID'].count().sort_values(name=\"count\", ascending=True).reset_index()\n",
    "diff = pd.DataFrame()\n",
    "\n",
    "#diff['Category'] = df['CATEGORY']\n",
    "\n"
   ]
  },
  {
   "cell_type": "code",
   "execution_count": 4,
   "metadata": {},
   "outputs": [
    {
     "data": {
      "text/html": [
       "<div>\n",
       "<style scoped>\n",
       "    .dataframe tbody tr th:only-of-type {\n",
       "        vertical-align: middle;\n",
       "    }\n",
       "\n",
       "    .dataframe tbody tr th {\n",
       "        vertical-align: top;\n",
       "    }\n",
       "\n",
       "    .dataframe thead th {\n",
       "        text-align: right;\n",
       "    }\n",
       "</style>\n",
       "<table border=\"1\" class=\"dataframe\">\n",
       "  <thead>\n",
       "    <tr style=\"text-align: right;\">\n",
       "      <th></th>\n",
       "      <th>CATEGORY</th>\n",
       "      <th>count</th>\n",
       "    </tr>\n",
       "  </thead>\n",
       "  <tbody>\n",
       "    <tr>\n",
       "      <th>0</th>\n",
       "      <td>LARCENY THEFT</td>\n",
       "      <td>44431</td>\n",
       "    </tr>\n",
       "    <tr>\n",
       "      <th>1</th>\n",
       "      <td>VEHICLE / BOATING LAWS</td>\n",
       "      <td>27230</td>\n",
       "    </tr>\n",
       "    <tr>\n",
       "      <th>2</th>\n",
       "      <td>NARCOTICS</td>\n",
       "      <td>24995</td>\n",
       "    </tr>\n",
       "    <tr>\n",
       "      <th>3</th>\n",
       "      <td>NON-AGGRAVATED ASSAULTS</td>\n",
       "      <td>19058</td>\n",
       "    </tr>\n",
       "    <tr>\n",
       "      <th>4</th>\n",
       "      <td>GRAND THEFT AUTO</td>\n",
       "      <td>18805</td>\n",
       "    </tr>\n",
       "    <tr>\n",
       "      <th>5</th>\n",
       "      <td>VANDALISM</td>\n",
       "      <td>15328</td>\n",
       "    </tr>\n",
       "    <tr>\n",
       "      <th>6</th>\n",
       "      <td>MISDEMEANORS MISCELLANEOUS</td>\n",
       "      <td>13254</td>\n",
       "    </tr>\n",
       "    <tr>\n",
       "      <th>7</th>\n",
       "      <td>BURGLARY</td>\n",
       "      <td>12893</td>\n",
       "    </tr>\n",
       "    <tr>\n",
       "      <th>8</th>\n",
       "      <td>AGGRAVATED ASSAULT</td>\n",
       "      <td>10028</td>\n",
       "    </tr>\n",
       "    <tr>\n",
       "      <th>9</th>\n",
       "      <td>FRAUD AND NSF CHECKS</td>\n",
       "      <td>9356</td>\n",
       "    </tr>\n",
       "    <tr>\n",
       "      <th>10</th>\n",
       "      <td>WEAPON LAWS</td>\n",
       "      <td>6934</td>\n",
       "    </tr>\n",
       "    <tr>\n",
       "      <th>11</th>\n",
       "      <td>ROBBERY</td>\n",
       "      <td>5541</td>\n",
       "    </tr>\n",
       "    <tr>\n",
       "      <th>12</th>\n",
       "      <td>DRUNK DRIVING VEHICLE / BOAT</td>\n",
       "      <td>3125</td>\n",
       "    </tr>\n",
       "    <tr>\n",
       "      <th>13</th>\n",
       "      <td>FELONIES MISCELLANEOUS</td>\n",
       "      <td>2999</td>\n",
       "    </tr>\n",
       "    <tr>\n",
       "      <th>14</th>\n",
       "      <td>DRUNK / ALCOHOL / DRUGS</td>\n",
       "      <td>2212</td>\n",
       "    </tr>\n",
       "    <tr>\n",
       "      <th>15</th>\n",
       "      <td>OFFENSES AGAINST FAMILY</td>\n",
       "      <td>2207</td>\n",
       "    </tr>\n",
       "    <tr>\n",
       "      <th>16</th>\n",
       "      <td>FORGERY</td>\n",
       "      <td>2145</td>\n",
       "    </tr>\n",
       "    <tr>\n",
       "      <th>17</th>\n",
       "      <td>LIQUOR LAWS</td>\n",
       "      <td>1859</td>\n",
       "    </tr>\n",
       "    <tr>\n",
       "      <th>18</th>\n",
       "      <td>SEX OFFENSES MISDEMEANORS</td>\n",
       "      <td>1828</td>\n",
       "    </tr>\n",
       "    <tr>\n",
       "      <th>19</th>\n",
       "      <td>SEX OFFENSES FELONIES</td>\n",
       "      <td>1579</td>\n",
       "    </tr>\n",
       "    <tr>\n",
       "      <th>20</th>\n",
       "      <td>WARRANTS</td>\n",
       "      <td>820</td>\n",
       "    </tr>\n",
       "    <tr>\n",
       "      <th>21</th>\n",
       "      <td>ARSON</td>\n",
       "      <td>754</td>\n",
       "    </tr>\n",
       "    <tr>\n",
       "      <th>22</th>\n",
       "      <td>DISORDERLY CONDUCT</td>\n",
       "      <td>685</td>\n",
       "    </tr>\n",
       "    <tr>\n",
       "      <th>23</th>\n",
       "      <td>FORCIBLE RAPE</td>\n",
       "      <td>565</td>\n",
       "    </tr>\n",
       "    <tr>\n",
       "      <th>24</th>\n",
       "      <td>FEDERAL OFFENSES WITH MONEY</td>\n",
       "      <td>556</td>\n",
       "    </tr>\n",
       "    <tr>\n",
       "      <th>25</th>\n",
       "      <td>VAGRANCY</td>\n",
       "      <td>550</td>\n",
       "    </tr>\n",
       "    <tr>\n",
       "      <th>26</th>\n",
       "      <td>CRIMINAL HOMICIDE</td>\n",
       "      <td>285</td>\n",
       "    </tr>\n",
       "    <tr>\n",
       "      <th>27</th>\n",
       "      <td>RECEIVING STOLEN PROPERTY</td>\n",
       "      <td>259</td>\n",
       "    </tr>\n",
       "    <tr>\n",
       "      <th>28</th>\n",
       "      <td>GAMBLING</td>\n",
       "      <td>36</td>\n",
       "    </tr>\n",
       "    <tr>\n",
       "      <th>29</th>\n",
       "      <td>FEDERAL OFFENSES W/O MONEY</td>\n",
       "      <td>8</td>\n",
       "    </tr>\n",
       "  </tbody>\n",
       "</table>\n",
       "</div>"
      ],
      "text/plain": [
       "                        CATEGORY  count\n",
       "0                  LARCENY THEFT  44431\n",
       "1         VEHICLE / BOATING LAWS  27230\n",
       "2                      NARCOTICS  24995\n",
       "3        NON-AGGRAVATED ASSAULTS  19058\n",
       "4               GRAND THEFT AUTO  18805\n",
       "5                      VANDALISM  15328\n",
       "6     MISDEMEANORS MISCELLANEOUS  13254\n",
       "7                       BURGLARY  12893\n",
       "8             AGGRAVATED ASSAULT  10028\n",
       "9           FRAUD AND NSF CHECKS   9356\n",
       "10                   WEAPON LAWS   6934\n",
       "11                       ROBBERY   5541\n",
       "12  DRUNK DRIVING VEHICLE / BOAT   3125\n",
       "13        FELONIES MISCELLANEOUS   2999\n",
       "14       DRUNK / ALCOHOL / DRUGS   2212\n",
       "15       OFFENSES AGAINST FAMILY   2207\n",
       "16                       FORGERY   2145\n",
       "17                   LIQUOR LAWS   1859\n",
       "18     SEX OFFENSES MISDEMEANORS   1828\n",
       "19         SEX OFFENSES FELONIES   1579\n",
       "20                      WARRANTS    820\n",
       "21                         ARSON    754\n",
       "22            DISORDERLY CONDUCT    685\n",
       "23                 FORCIBLE RAPE    565\n",
       "24   FEDERAL OFFENSES WITH MONEY    556\n",
       "25                      VAGRANCY    550\n",
       "26             CRIMINAL HOMICIDE    285\n",
       "27     RECEIVING STOLEN PROPERTY    259\n",
       "28                      GAMBLING     36\n",
       "29    FEDERAL OFFENSES W/O MONEY      8"
      ]
     },
     "execution_count": 4,
     "metadata": {},
     "output_type": "execute_result"
    }
   ],
   "source": [
    "#Category\n",
    "ct = df.groupby(['CATEGORY'])['INCIDENT_ID'].count().sort_values(ascending=False).reset_index(name=\"count\")\n",
    "ct"
   ]
  },
  {
   "cell_type": "code",
   "execution_count": 16,
   "metadata": {},
   "outputs": [
    {
     "data": {
      "text/plain": [
       "<AxesSubplot:xlabel='CATEGORY'>"
      ]
     },
     "execution_count": 16,
     "metadata": {},
     "output_type": "execute_result"
    },
    {
     "data": {
      "image/png": "[encoded data removed]",
      "text/plain": [
       "<Figure size 640x480 with 1 Axes>"
      ]
     },
     "metadata": {},
     "output_type": "display_data"
    }
   ],
   "source": [
    "#Top 5 by Category\n",
    "c = df.groupby(['CATEGORY'])['INCIDENT_ID'].count().sort_values(ascending=False).reset_index(name=\"count\").head(5)\n",
    "c.plot(x = 'CATEGORY', y = 'count', kind = \"bar\")"
   ]
  },
  {
   "cell_type": "code",
   "execution_count": 41,
   "metadata": {},
   "outputs": [
    {
     "data": {
      "text/plain": [
       "<AxesSubplot:xlabel='UNIT_NAME'>"
      ]
     },
     "execution_count": 41,
     "metadata": {},
     "output_type": "execute_result"
    },
    {
     "data": {
      "image/png": "[encoded data removed]",
      "text/plain": [
       "<Figure size 640x480 with 1 Axes>"
      ]
     },
     "metadata": {},
     "output_type": "display_data"
    }
   ],
   "source": [
    "#Count by Station Name\n",
    "uname = df.groupby(['UNIT_NAME'])['INCIDENT_ID'].count().sort_values(ascending=False).reset_index().head(10)\n",
    "uname.plot(x = 'UNIT_NAME', y = 'INCIDENT_ID', kind = \"bar\")"
   ]
  },
  {
   "cell_type": "code",
   "execution_count": 42,
   "metadata": {},
   "outputs": [
    {
     "data": {
      "text/plain": [
       "<AxesSubplot:xlabel='CITY'>"
      ]
     },
     "execution_count": 42,
     "metadata": {},
     "output_type": "execute_result"
    },
    {
     "data": {
      "image/png": "[encoded data removed]",
      "text/plain": [
       "<Figure size 640x480 with 1 Axes>"
      ]
     },
     "metadata": {},
     "output_type": "display_data"
    }
   ],
   "source": [
    "#Top 10 Cities with Highest Reported Crimes\n",
    "cy = df.groupby(['CITY'])['INCIDENT_ID'].count().sort_values(ascending=False).reset_index().head(10)\n",
    "cy.plot(x = 'CITY', y = 'INCIDENT_ID', kind = \"bar\")"
   ]
  },
  {
   "cell_type": "code",
   "execution_count": 11,
   "metadata": {},
   "outputs": [
    {
     "data": {
      "text/plain": [
       "<AxesSubplot:xlabel='GANG_RELATED'>"
      ]
     },
     "execution_count": 11,
     "metadata": {},
     "output_type": "execute_result"
    },
    {
     "data": {
      "image/png": "[encoded data removed]",
      "text/plain": [
       "<Figure size 640x480 with 1 Axes>"
      ]
     },
     "metadata": {},
     "output_type": "display_data"
    }
   ],
   "source": [
    "#Count by gang related\n",
    "gang = df.groupby(['GANG_RELATED'])['INCIDENT_ID'].count().sort_values(ascending=False).reset_index().head(10)\n",
    "gang.plot(x = 'GANG_RELATED', y = 'INCIDENT_ID', kind = \"bar\")"
   ]
  },
  {
   "cell_type": "markdown",
   "metadata": {},
   "source": [
    "### Export Data"
   ]
  },
  {
   "cell_type": "code",
   "execution_count": 17,
   "metadata": {},
   "outputs": [],
   "source": [
    "#Export to csv\n",
    "df.to_csv('C:/Users/hanna/Documents/CSV/CRIMESDATA/LA_Crime.csv')"
   ]
  },
  {
   "cell_type": "markdown",
   "metadata": {},
   "source": [
    "### Incidents outside of LA County"
   ]
  },
  {
   "cell_type": "code",
   "execution_count": 25,
   "metadata": {},
   "outputs": [
    {
     "data": {
      "text/plain": [
       "(31, 16)"
      ]
     },
     "execution_count": 25,
     "metadata": {},
     "output_type": "execute_result"
    }
   ],
   "source": [
    "#Find zip codes outside of CA\n",
    "outLA = df.loc[(df['ZIP'] < 90000) | (df['ZIP'] > 93599)]\n",
    "outLA.shape"
   ]
  },
  {
   "cell_type": "code",
   "execution_count": 20,
   "metadata": {},
   "outputs": [
    {
     "data": {
      "text/plain": [
       "<AxesSubplot:xlabel='CATEGORY'>"
      ]
     },
     "execution_count": 20,
     "metadata": {},
     "output_type": "execute_result"
    },
    {
     "data": {
      "image/png": "[encoded data removed]",
      "text/plain": [
       "<Figure size 640x480 with 1 Axes>"
      ]
     },
     "metadata": {},
     "output_type": "display_data"
    }
   ],
   "source": [
    "#Category of crimes reported that happened outside of LA county\n",
    "outLA1 = outLA.groupby(['CATEGORY'])['INCIDENT_ID'].count().sort_values(ascending=False).reset_index(name=\"count\")\n",
    "outLA1.plot(x = 'CATEGORY', y = 'count', kind = \"bar\")"
   ]
  }
 ],
 "metadata": {
  "kernelspec": {
   "display_name": "Python 3.10.5 64-bit",
   "language": "python",
   "name": "python3"
  },
  "language_info": {
   "codemirror_mode": {
    "name": "ipython",
    "version": 3
   },
   "file_extension": ".py",
   "mimetype": "text/x-python",
   "name": "python",
   "nbconvert_exporter": "python",
   "pygments_lexer": "ipython3",
   "version": "3.10.5"
  },
  "orig_nbformat": 4,
  "vscode": {
   "interpreter": {
    "hash": "381995352d5289ce5cc6354169ba7c50570f2c61bd35216024914fe9dcbd27c4"
   }
  }
 },
 "nbformat": 4,
 "nbformat_minor": 2
}
